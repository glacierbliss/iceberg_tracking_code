{
 "cells": [
  {
   "cell_type": "code",
   "execution_count": 16,
   "id": "0b0d36cb",
   "metadata": {},
   "outputs": [
    {
     "name": "stdout",
     "output_type": "stream",
     "text": [
      "/plots_333/\n",
      "[2, 3, 4, 5, 6, 7]\n",
      "7\n",
      "6\n",
      "5\n"
     ]
    }
   ],
   "source": [
    "#test_stuff is Andy learning some Python - notebook version is difficult to use, since can't run it line by line\n",
    "import os\n",
    "time_covered_plot='333'\n",
    "plotfolder = '/plots_{}/'.format(time_covered_plot)\n",
    "print(plotfolder)\n",
    "#os.mkdir(plotfolder)  \n",
    "asdf=[2,3,4,\n",
    "      5, 6, 7]\n",
    "print(asdf)\n",
    "print(asdf[-1])\n",
    "print(asdf[-2])\n",
    "print(asdf[3])\n",
    "\n"
   ]
  }
 ],
 "metadata": {
  "kernelspec": {
   "display_name": "Python 3 (ipykernel)",
   "language": "python",
   "name": "python3"
  },
  "language_info": {
   "codemirror_mode": {
    "name": "ipython",
    "version": 3
   },
   "file_extension": ".py",
   "mimetype": "text/x-python",
   "name": "python",
   "nbconvert_exporter": "python",
   "pygments_lexer": "ipython3",
   "version": "3.12.7"
  }
 },
 "nbformat": 4,
 "nbformat_minor": 5
}
